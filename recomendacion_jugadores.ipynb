{
 "cells": [
  {
   "cell_type": "code",
   "execution_count": 1,
   "metadata": {},
   "outputs": [
    {
     "name": "stdout",
     "output_type": "stream",
     "text": [
      "[pca] >Processing dataframe..\n",
      "[pca] >Normalizing input data per feature (zero mean and unit variance)..\n",
      "[pca] >The PCA reduction is performed on the [67] columns of the input dataframe.\n",
      "[pca] >Fit using PCA.\n",
      "[pca] >Compute loadings and PCs.\n",
      "[pca] >Compute explained variance.\n",
      "[pca] >Outlier detection using Hotelling T2 test with alpha=[0.05] and n_components=[11]\n",
      "[pca] >Multiple test correction applied for Hotelling T2 test: [fdr_bh]\n",
      "[pca] >Outlier detection using SPE/DmodX with n_std=[3]\n",
      "[pca] >Processing dataframe..\n",
      "[pca] >Normalizing input data per feature (zero mean and unit variance)..\n",
      "[pca] >Outlier detection using Hotelling T2 test with alpha=[0.05] and n_components=[11]\n",
      "[pca] >Multiple test correction applied for Hotelling T2 test: [fdr_bh]\n",
      "[pca] >Outlier detection using SPE/DmodX with n_std=[3]\n"
     ]
    }
   ],
   "source": [
    "import sqlalchemy as db\n",
    "import pandas as pd\n",
    "import numpy as np\n",
    "import json\n",
    "import operator\n",
    "\n",
    "from utilidades import conectar_db\n",
    "from utilidades import reducir_dimensionalidad_dataset\n",
    "from sklearn.metrics.pairwise import cosine_similarity\n",
    "\n",
    "connection = conectar_db()\n",
    "df_reducido = reducir_dimensionalidad_dataset()"
   ]
  },
  {
   "cell_type": "code",
   "execution_count": 2,
   "metadata": {},
   "outputs": [
    {
     "name": "stdout",
     "output_type": "stream",
     "text": [
      "Los jugadores mas similares a Julian Alvarez son: \n"
     ]
    },
    {
     "data": {
      "text/plain": [
       "'{\"Martin Ojeda\": 0.9831031630522477, \"Diego Valeri\": 0.9332509762918078, \"Lucas Janson\": 0.9128643968905823, \"Matias Suarez\": 0.9101692349427387, \"Cristian Pavon\": 0.9007095060456934, \"Lucas Gamba\": 0.9002575252778251, \"Gabriel Hauche\": 0.899609281771773, \"Francisco Pizzini\": 0.8995273460786928, \"Jonas Acevedo\": 0.8708057875552374, \"Pablo Mouche\": 0.8674211652164046, \"Francisco Gonzalez Metilli\": 0.8581438295723998, \"Jesus Datolo\": 0.8570212177591889, \"Tomas Chancalay\": 0.856417086423628, \"Luis Rodriguez\": 0.8549594789393474, \"Leandro Fernandez\": 0.8537418481712836}'"
      ]
     },
     "execution_count": 2,
     "metadata": {},
     "output_type": "execute_result"
    }
   ],
   "source": [
    "def obtener_posicion_segun_jugador(jugador_id):\n",
    "    return pd.read_sql(\"SELECT posicion from Jugadores where jugador_id = \" + str(jugador_id), con=connection)['posicion'][0]\n",
    "    \n",
    "def obtener_dataset_segun_posicion(posicion_jugador, dataset):\n",
    "    return dataset[dataset[\"posicion\"] == posicion_jugador]\n",
    "\n",
    "def obtener_estadisticas_por_jugador(id_jugador):\n",
    "    jugador_elegido = df_reducido[df_reducido.iloc[:,0] == id_jugador]\n",
    "    array_estadisticas = np.array(jugador_elegido.iloc[:,2:])\n",
    "    return array_estadisticas\n",
    "\n",
    "\n",
    "def obtener_jugadores_similares(id_jugador, n_similares):\n",
    "    estadisticas_jugador_elegido = obtener_estadisticas_por_jugador(id_jugador)\n",
    "    df_filtrado_sin_jugador_elegido = df_reducido.loc[df_reducido['jugador_id'] != id_jugador]\n",
    "    dicc_jugador_relacion = dict()\n",
    "    \n",
    "    for i in df_filtrado_sin_jugador_elegido.index:\n",
    "        id_jugador_iterado = df_filtrado_sin_jugador_elegido['jugador_id'][i]\n",
    "        estadisticas_jugador = obtener_estadisticas_por_jugador(id_jugador_iterado)\n",
    "        porcentaje_relacion = cosine_similarity(estadisticas_jugador_elegido,estadisticas_jugador)[0][0]\n",
    "        nombre_jugador = pd.read_sql(\"SELECT nombre from Jugadores where jugador_id = \" + str(id_jugador_iterado), con=connection)['nombre'][0]\n",
    "        dicc_jugador_relacion[nombre_jugador] = porcentaje_relacion\n",
    "\n",
    "    \n",
    "    dicc_jugador_relacion_ordenado = dict(sorted(dicc_jugador_relacion.items(), key=operator.itemgetter(1), reverse=True))\n",
    "    dicc_jugador_relacion_filtrado = dict(list(dicc_jugador_relacion_ordenado.items())[0: n_similares])\n",
    "    return json.dumps(dicc_jugador_relacion_filtrado)\n",
    "\n",
    "def mostrar_jugadores_similares():\n",
    "    nombre = input(\"Ingrese el nombre del jugador: \")\n",
    "    try:\n",
    "        id_jugador = pd.read_sql_query(\"select jugador_id from Jugadores where nombre='\" + nombre + \"'\", con=connection)['jugador_id'][0]\n",
    "        print(\"Los jugadores mas similares a \"+ nombre + \" son: \")\n",
    "        return obtener_jugadores_similares(id_jugador, 15)\n",
    "\n",
    "    except:\n",
    "        print(\"El jugador ingresado (\" + nombre + \") no existe en la base de datos\")\n",
    "\n",
    "mostrar_jugadores_similares()\n",
    "\n"
   ]
  }
 ],
 "metadata": {
  "kernelspec": {
   "display_name": "Python 3",
   "language": "python",
   "name": "python3"
  },
  "language_info": {
   "codemirror_mode": {
    "name": "ipython",
    "version": 3
   },
   "file_extension": ".py",
   "mimetype": "text/x-python",
   "name": "python",
   "nbconvert_exporter": "python",
   "pygments_lexer": "ipython3",
   "version": "3.11.5"
  },
  "orig_nbformat": 4
 },
 "nbformat": 4,
 "nbformat_minor": 2
}
